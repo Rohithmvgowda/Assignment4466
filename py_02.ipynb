{
  "nbformat": 4,
  "nbformat_minor": 0,
  "metadata": {
    "colab": {
      "provenance": []
    },
    "kernelspec": {
      "name": "python3",
      "display_name": "Python 3"
    },
    "language_info": {
      "name": "python"
    }
  },
  "cells": [
    {
      "cell_type": "markdown",
      "source": [
        "## 6.3.1 Lists\n",
        "\n",
        "Earlier, while discussing introduction to strings we have introduced the concept of a *sequence* in Python. In Python, Lists can be considered as the most general version of a \"sequence\". Unlike strings, they are mutable which means the elements inside a list can be changed!\n",
        "\n",
        "`Lists` are constructed with brackets `[]` and commas separating every element in the list.\n",
        "\n",
        "Let's go ahead and see how we can construct lists!"
      ],
      "metadata": {
        "id": "lCZ2vaQcBuuH"
      }
    },
    {
      "cell_type": "markdown",
      "source": [
        "We just created a list of integers, but lists can actually hold different object types, different data-types. For example:"
      ],
      "metadata": {
        "id": "uMtkLf7tCI3z"
      }
    },
    {
      "cell_type": "code",
      "execution_count": null,
      "metadata": {
        "id": "8IRMaaJ0Ajkx"
      },
      "outputs": [],
      "source": [
        "my_list = ['rohith',4, 4.4,True]"
      ]
    },
    {
      "cell_type": "code",
      "source": [
        "len(my_list)"
      ],
      "metadata": {
        "colab": {
          "base_uri": "https://localhost:8080/"
        },
        "id": "zspgzZRvCX-x",
        "outputId": "d153ed73-4ad9-4b14-ceb0-101cceae8e48"
      },
      "execution_count": null,
      "outputs": [
        {
          "output_type": "execute_result",
          "data": {
            "text/plain": [
              "4"
            ]
          },
          "metadata": {},
          "execution_count": 2
        }
      ]
    },
    {
      "cell_type": "code",
      "source": [
        "A = ['rohith', 44.4,1999,2+3j,False]\n",
        "\n"
      ],
      "metadata": {
        "id": "OgvPNWIcCexk"
      },
      "execution_count": null,
      "outputs": []
    },
    {
      "cell_type": "code",
      "source": [
        "len(A)"
      ],
      "metadata": {
        "colab": {
          "base_uri": "https://localhost:8080/"
        },
        "id": "XC5FV3L7DfFe",
        "outputId": "87153e70-7979-4fa2-82ce-6ed1932aecaa"
      },
      "execution_count": null,
      "outputs": [
        {
          "output_type": "execute_result",
          "data": {
            "text/plain": [
              "5"
            ]
          },
          "metadata": {},
          "execution_count": 4
        }
      ]
    },
    {
      "cell_type": "code",
      "source": [
        "for i in range (len(A)):\n",
        "  print(A[i])"
      ],
      "metadata": {
        "colab": {
          "base_uri": "https://localhost:8080/"
        },
        "id": "zDtyARgjDoJG",
        "outputId": "f10eb0c5-5701-4fdb-a994-c506fadf0364"
      },
      "execution_count": null,
      "outputs": [
        {
          "output_type": "stream",
          "name": "stdout",
          "text": [
            "rohith\n",
            "44.4\n",
            "1999\n",
            "(2+3j)\n",
            "False\n"
          ]
        }
      ]
    },
    {
      "cell_type": "code",
      "source": [
        "for i in range(len(A)):\n",
        "  print(f\"i={i}, value={A[i]}, datatype={type(A[i])}\")"
      ],
      "metadata": {
        "colab": {
          "base_uri": "https://localhost:8080/"
        },
        "id": "ZB6DHsz3D7SG",
        "outputId": "ecff8c63-5161-4825-a454-b837e305e8d9"
      },
      "execution_count": null,
      "outputs": [
        {
          "output_type": "stream",
          "name": "stdout",
          "text": [
            "i=0, value=rohith, datatype=<class 'str'>\n",
            "i=1, value=44.4, datatype=<class 'float'>\n",
            "i=2, value=1999, datatype=<class 'int'>\n",
            "i=3, value=(2+3j), datatype=<class 'complex'>\n",
            "i=4, value=False, datatype=<class 'bool'>\n"
          ]
        }
      ]
    },
    {
      "cell_type": "code",
      "source": [
        "A = ['rohith', 44.4,1999,2+3j,False]\n",
        "\n"
      ],
      "metadata": {
        "id": "E2b0cd93EFF_"
      },
      "execution_count": 3,
      "outputs": []
    },
    {
      "cell_type": "code",
      "source": [
        "A[::2]"
      ],
      "metadata": {
        "colab": {
          "base_uri": "https://localhost:8080/"
        },
        "id": "SQ_cskVzaXlW",
        "outputId": "a745d4ae-6a70-43f9-9a98-01b84d69fac2"
      },
      "execution_count": 4,
      "outputs": [
        {
          "output_type": "execute_result",
          "data": {
            "text/plain": [
              "['rohith', 1999, False]"
            ]
          },
          "metadata": {},
          "execution_count": 4
        }
      ]
    },
    {
      "cell_type": "code",
      "source": [
        "A[2:]"
      ],
      "metadata": {
        "colab": {
          "base_uri": "https://localhost:8080/"
        },
        "id": "2wegfcsMEWe3",
        "outputId": "4a2fe7aa-44ce-4bde-a920-dd003bd6c1b7"
      },
      "execution_count": null,
      "outputs": [
        {
          "output_type": "execute_result",
          "data": {
            "text/plain": [
              "[1999, (2+3j), False]"
            ]
          },
          "metadata": {},
          "execution_count": 8
        }
      ]
    },
    {
      "cell_type": "code",
      "source": [
        "A[0::2]"
      ],
      "metadata": {
        "colab": {
          "base_uri": "https://localhost:8080/",
          "height": 166
        },
        "id": "nSc-dp1AEZta",
        "outputId": "d8a272b8-914b-4951-a8fe-ecb5866ad609"
      },
      "execution_count": 1,
      "outputs": [
        {
          "output_type": "error",
          "ename": "NameError",
          "evalue": "ignored",
          "traceback": [
            "\u001b[0;31m---------------------------------------------------------------------------\u001b[0m",
            "\u001b[0;31mNameError\u001b[0m                                 Traceback (most recent call last)",
            "\u001b[0;32m<ipython-input-1-3001f608bc3c>\u001b[0m in \u001b[0;36m<module>\u001b[0;34m\u001b[0m\n\u001b[0;32m----> 1\u001b[0;31m \u001b[0mA\u001b[0m\u001b[0;34m[\u001b[0m\u001b[0;36m0\u001b[0m\u001b[0;34m:\u001b[0m\u001b[0;34m:\u001b[0m\u001b[0;36m2\u001b[0m\u001b[0;34m]\u001b[0m\u001b[0;34m\u001b[0m\u001b[0;34m\u001b[0m\u001b[0m\n\u001b[0m",
            "\u001b[0;31mNameError\u001b[0m: name 'A' is not defined"
          ]
        }
      ]
    },
    {
      "cell_type": "code",
      "source": [
        "for i in range(0,5,2):   # start : end : step\n",
        "  print(i,A[i])"
      ],
      "metadata": {
        "colab": {
          "base_uri": "https://localhost:8080/"
        },
        "id": "20wBJT_UEgb3",
        "outputId": "ee4a176c-c23e-48f6-bc12-a201c1dc35fb"
      },
      "execution_count": null,
      "outputs": [
        {
          "output_type": "stream",
          "name": "stdout",
          "text": [
            "0 rohith\n",
            "2 1999\n",
            "4 False\n"
          ]
        }
      ]
    },
    {
      "cell_type": "code",
      "source": [
        "A[::-2]"
      ],
      "metadata": {
        "colab": {
          "base_uri": "https://localhost:8080/"
        },
        "id": "aMS8_3DqFIad",
        "outputId": "3c2cd65e-4ccc-4e8c-d95b-008019e99d06"
      },
      "execution_count": null,
      "outputs": [
        {
          "output_type": "execute_result",
          "data": {
            "text/plain": [
              "[False, 1999, 'rohith']"
            ]
          },
          "metadata": {},
          "execution_count": 11
        }
      ]
    },
    {
      "cell_type": "code",
      "source": [
        "for i in range(0,len((A))):\n",
        "  print(i,A[i])"
      ],
      "metadata": {
        "colab": {
          "base_uri": "https://localhost:8080/"
        },
        "id": "sQzczk9RMNX8",
        "outputId": "68e8a634-f242-47b7-c26d-efcdd75d5c76"
      },
      "execution_count": null,
      "outputs": [
        {
          "output_type": "stream",
          "name": "stdout",
          "text": [
            "0 rohith\n",
            "1 44.4\n",
            "2 1999\n",
            "3 (2+3j)\n",
            "4 False\n"
          ]
        }
      ]
    },
    {
      "cell_type": "code",
      "source": [
        "for i in range(-1,-len(A),-1):\n",
        "  print(i,A[i])"
      ],
      "metadata": {
        "colab": {
          "base_uri": "https://localhost:8080/"
        },
        "id": "7mQfBbCDNJ60",
        "outputId": "909497a1-bc02-4e69-d01a-ff41ec305c20"
      },
      "execution_count": null,
      "outputs": [
        {
          "output_type": "stream",
          "name": "stdout",
          "text": [
            "-1 False\n",
            "-2 (2+3j)\n",
            "-3 1999\n",
            "-4 44.4\n"
          ]
        }
      ]
    },
    {
      "cell_type": "code",
      "source": [
        "for i in range(-1,-len(A)-1,-1):\n",
        "  print(i,A[i])"
      ],
      "metadata": {
        "colab": {
          "base_uri": "https://localhost:8080/"
        },
        "id": "pwCd700KO3j9",
        "outputId": "3d98f35c-a75d-4142-a1b8-5b35b8860ace"
      },
      "execution_count": null,
      "outputs": [
        {
          "output_type": "stream",
          "name": "stdout",
          "text": [
            "-1 False\n",
            "-2 (2+3j)\n",
            "-3 1999\n",
            "-4 44.4\n",
            "-5 rohith\n"
          ]
        }
      ]
    },
    {
      "cell_type": "code",
      "source": [
        "for i in [1,3]:\n",
        "  print(i,A[i])"
      ],
      "metadata": {
        "colab": {
          "base_uri": "https://localhost:8080/"
        },
        "id": "-Hfv3dw8O_c8",
        "outputId": "718e8397-6c50-4d43-aafd-92600c1ef605"
      },
      "execution_count": null,
      "outputs": [
        {
          "output_type": "stream",
          "name": "stdout",
          "text": [
            "1 44.4\n",
            "3 (2+3j)\n"
          ]
        }
      ]
    },
    {
      "cell_type": "code",
      "source": [
        "R = [2, 4,44,64,46,12,4.6]"
      ],
      "metadata": {
        "id": "4ocuQCsoPgfB"
      },
      "execution_count": 5,
      "outputs": []
    },
    {
      "cell_type": "code",
      "source": [
        "R[2] = 4.5"
      ],
      "metadata": {
        "id": "_KO2FWk-bvap"
      },
      "execution_count": 6,
      "outputs": []
    },
    {
      "cell_type": "code",
      "source": [
        "R"
      ],
      "metadata": {
        "colab": {
          "base_uri": "https://localhost:8080/"
        },
        "id": "Cr9yjohSb2lX",
        "outputId": "32ff82ec-5655-41a4-8d81-c5486cc332ca"
      },
      "execution_count": 7,
      "outputs": [
        {
          "output_type": "execute_result",
          "data": {
            "text/plain": [
              "[2, 4, 4.5, 64, 46, 12, 4.6]"
            ]
          },
          "metadata": {},
          "execution_count": 7
        }
      ]
    },
    {
      "cell_type": "code",
      "source": [
        "A + R  #concatination"
      ],
      "metadata": {
        "colab": {
          "base_uri": "https://localhost:8080/"
        },
        "id": "xjwzYeTeb5Ke",
        "outputId": "b79531bf-00ec-401a-f861-7a7408a648a3"
      },
      "execution_count": 8,
      "outputs": [
        {
          "output_type": "execute_result",
          "data": {
            "text/plain": [
              "['rohith', 44.4, 1999, (2+3j), False, 2, 4, 4.5, 64, 46, 12, 4.6]"
            ]
          },
          "metadata": {},
          "execution_count": 8
        }
      ]
    },
    {
      "cell_type": "code",
      "source": [
        "R * 2"
      ],
      "metadata": {
        "colab": {
          "base_uri": "https://localhost:8080/"
        },
        "id": "_1VdXKR0cA5-",
        "outputId": "c46bd967-8ad6-4d73-ed54-0c88d34f72d1"
      },
      "execution_count": 9,
      "outputs": [
        {
          "output_type": "execute_result",
          "data": {
            "text/plain": [
              "[2, 4, 4.5, 64, 46, 12, 4.6, 2, 4, 4.5, 64, 46, 12, 4.6]"
            ]
          },
          "metadata": {},
          "execution_count": 9
        }
      ]
    },
    {
      "cell_type": "code",
      "source": [
        "A * "
      ],
      "metadata": {
        "id": "oLFzZTEJcfe8"
      },
      "execution_count": null,
      "outputs": []
    },
    {
      "cell_type": "markdown",
      "source": [
        "# Basic list methods\n",
        "\n",
        "\n",
        "1.  they have no fixed size\n",
        "2.  they have no fixed type constraints\n",
        "\n",
        "explore more special methods for list"
      ],
      "metadata": {
        "id": "Av_icfENc7nJ"
      }
    },
    {
      "cell_type": "markdown",
      "source": [
        "##len()\n",
        "\n",
        "\n",
        "length of a list can be calculated using len()"
      ],
      "metadata": {
        "id": "_yfOCxjkdqEs"
      }
    },
    {
      "cell_type": "code",
      "source": [
        "R = [2, 4,44,64,46,12,4.6]\n",
        "len(R)"
      ],
      "metadata": {
        "colab": {
          "base_uri": "https://localhost:8080/"
        },
        "id": "vy-vVGg8dS14",
        "outputId": "482e1f61-e9ff-4a4f-f3b1-65723ea4b236"
      },
      "execution_count": 10,
      "outputs": [
        {
          "output_type": "execute_result",
          "data": {
            "text/plain": [
              "7"
            ]
          },
          "metadata": {},
          "execution_count": 10
        }
      ]
    },
    {
      "cell_type": "code",
      "source": [
        "items_to_buy = list()\n",
        "\n",
        "for i in range(5):\n",
        "  user_input = input(\"enter the item: \")\n",
        "  items_to_buy = items_to_buy + [user_input]\n",
        "print(items_to_buy)"
      ],
      "metadata": {
        "colab": {
          "base_uri": "https://localhost:8080/"
        },
        "id": "W8XAUxqZe6U7",
        "outputId": "90058e68-b7f6-4ac0-e437-e2aa618ff8f7"
      },
      "execution_count": 11,
      "outputs": [
        {
          "output_type": "stream",
          "name": "stdout",
          "text": [
            "enter the item: shirt\n",
            "enter the item: pant\n",
            "enter the item: glass\n",
            "enter the item: shorts\n",
            "enter the item: hoodie\n",
            "['shirt', 'pant', 'glass', 'shorts', 'hoodie']\n"
          ]
        }
      ]
    },
    {
      "cell_type": "markdown",
      "source": [
        "##check membership in a list"
      ],
      "metadata": {
        "id": "Rdx3Iofrd-U6"
      }
    },
    {
      "cell_type": "code",
      "source": [],
      "metadata": {
        "id": "FFihLNwPd6MN"
      },
      "execution_count": null,
      "outputs": []
    }
  ]
}